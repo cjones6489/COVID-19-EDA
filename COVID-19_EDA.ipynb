{
 "cells": [
  {
   "cell_type": "markdown",
   "metadata": {},
   "source": [
    "# COVID-19 Exploratory Data Analysis"
   ]
  },
  {
   "cell_type": "markdown",
   "metadata": {},
   "source": [
    "## COVID-19 Dataset Understanding"
   ]
  },
  {
   "cell_type": "markdown",
   "metadata": {},
   "source": [
    "Dataset Link: https://github.com/laxmimerit/Covid-19-Preprocessed-Dataset"
   ]
  },
  {
   "cell_type": "code",
   "execution_count": null,
   "metadata": {},
   "outputs": [],
   "source": [
    "# import packages\n",
    "import plotly as py\n",
    "py.offline.init_notebook_mode(connected=True)\n",
    "\n",
    "import plotly.express as px\n",
    "import plotly.graph_objects as go\n",
    "import plotly.figure_factory as ff\n",
    "from plotly.subplots import make_subplots\n",
    "\n",
    "import folium\n",
    "\n",
    "import pandas as pd\n",
    "import numpy as np\n",
    "import matplotlib.pyplot as plt\n",
    "\n",
    "%matplotlib inline\n",
    "\n",
    "import math\n",
    "import random\n",
    "from datetime import timedelta\n",
    "\n",
    "import warnings\n",
    "warnings.filterwarnings('ignore')\n",
    "\n",
    "import os\n",
    "\n",
    "# color pallette\n",
    "cnf = '#393e46'\n",
    "dth = '#ff2e63'\n",
    "rec = '#21bf73'\n",
    "act = '#fe9801'"
   ]
  },
  {
   "cell_type": "markdown",
   "metadata": {},
   "source": [
    "## Dataset Preparation"
   ]
  },
  {
   "cell_type": "code",
   "execution_count": null,
   "metadata": {},
   "outputs": [],
   "source": [
    "try:\n",
    "    os.system('rm -rf Covid-19-Preprocessed-Dataset')\n",
    "except:\n",
    "    print('File does not exist')"
   ]
  },
  {
   "cell_type": "code",
   "execution_count": null,
   "metadata": {},
   "outputs": [],
   "source": [
    "!git clone https://github.com/laxmimerit/Covid-19-Preprocessed-Dataset.git"
   ]
  },
  {
   "cell_type": "code",
   "execution_count": null,
   "metadata": {},
   "outputs": [],
   "source": [
    "df = pd.read_csv('Covid-19-Preprocessed-Dataset/preprocessed/covid_19_data_cleaned.csv', parse_dates=['Date'])\n",
    "\n",
    "country_daywise = pd.read_csv('Covid-19-Preprocessed-Dataset/preprocessed/country_daywise.csv', parse_dates=['Date'])\n",
    "countrywise = pd.read_csv('Covid-19-Preprocessed-Dataset/preprocessed/countrywise.csv')\n",
    "daywise = pd.read_csv('Covid-19-Preprocessed-Dataset/preprocessed/daywise.csv', parse_dates=['Date'])\n"
   ]
  },
  {
   "cell_type": "code",
   "execution_count": null,
   "metadata": {},
   "outputs": [],
   "source": [
    "df['Province/State'] = df['Province/State'].fillna(\"\")\n",
    "df"
   ]
  },
  {
   "cell_type": "code",
   "execution_count": null,
   "metadata": {},
   "outputs": [],
   "source": [
    "confirmed = df.groupby('Date').sum()['Confirmed'].reset_index()\n",
    "recovered = df.groupby('Date').sum()['Recovered'].reset_index()\n",
    "deaths = df.groupby('Date').sum()['Deaths'].reset_index()\n",
    "deaths.head()"
   ]
  },
  {
   "cell_type": "code",
   "execution_count": null,
   "metadata": {},
   "outputs": [],
   "source": [
    "df.isnull().sum()"
   ]
  },
  {
   "cell_type": "code",
   "execution_count": null,
   "metadata": {},
   "outputs": [],
   "source": [
    "df.info()"
   ]
  },
  {
   "cell_type": "code",
   "execution_count": null,
   "metadata": {},
   "outputs": [],
   "source": [
    "df.query('Country == \"US\"')"
   ]
  },
  {
   "cell_type": "markdown",
   "metadata": {},
   "source": [
    "## Worldwide Total Confirmed, Recovered, and Deaths"
   ]
  },
  {
   "cell_type": "code",
   "execution_count": null,
   "metadata": {},
   "outputs": [],
   "source": [
    "confirmed.tail()"
   ]
  },
  {
   "cell_type": "code",
   "execution_count": null,
   "metadata": {},
   "outputs": [],
   "source": [
    "recovered.tail()"
   ]
  },
  {
   "cell_type": "code",
   "execution_count": null,
   "metadata": {},
   "outputs": [],
   "source": [
    "deaths.tail()"
   ]
  },
  {
   "cell_type": "code",
   "execution_count": null,
   "metadata": {},
   "outputs": [],
   "source": [
    "fig = go.Figure()\n",
    "\n",
    "# Plot confirmed cases\n",
    "fig.add_trace(go.Scatter(x = confirmed['Date'], y = confirmed['Confirmed'], \n",
    "                         mode = 'lines+markers', name='Confirmed',\n",
    "                         line=dict(color='Orange', width=1)))\n",
    "\n",
    "# Plot recovered cases\n",
    "fig.add_trace(go.Scatter(x = recovered['Date'], y = recovered['Recovered'], \n",
    "                         mode = 'lines+markers', name='Recovered',\n",
    "                         line=dict(color='Green', width=1)))\n",
    "\n",
    "# Plot deaths\n",
    "fig.add_trace(go.Scatter(x = deaths['Date'], y = deaths['Deaths'], \n",
    "                         mode = 'lines+markers', name='Deaths',\n",
    "                         line=dict(color='Red', width=1)))\n",
    "\n",
    "fig.update_layout(title='Worlwide Covid-19 Cases', xaxis_tickfont_size=14, \n",
    "                  yaxis=dict(title='Number of Cases'))\n",
    "\n",
    "fig.show()"
   ]
  },
  {
   "cell_type": "markdown",
   "metadata": {},
   "source": [
    "## Cases Density Animation on World Map"
   ]
  },
  {
   "cell_type": "code",
   "execution_count": null,
   "metadata": {},
   "outputs": [],
   "source": [
    "df.info()"
   ]
  },
  {
   "cell_type": "code",
   "execution_count": null,
   "metadata": {},
   "outputs": [],
   "source": [
    "df['Date'] = df['Date'].astype('str')"
   ]
  },
  {
   "cell_type": "code",
   "execution_count": null,
   "metadata": {},
   "outputs": [],
   "source": [
    "df.info()"
   ]
  },
  {
   "cell_type": "code",
   "execution_count": null,
   "metadata": {
    "scrolled": false
   },
   "outputs": [],
   "source": [
    "fig = px.density_mapbox(df, lat='Lat', lon='Long', hover_name='Country',\n",
    "                       hover_data=['Confirmed', 'Recovered', 'Deaths'],\n",
    "                       animation_frame='Date', color_continuous_scale='Portland',\n",
    "                       radius=7, zoom=0, height=700)\n",
    "\n",
    "fig.update_layout(title='Worldwide COVID-19 Cases with Time Laps')\n",
    "fig.update_layout(mapbox_style='open-street-map', mapbox_center_lon=0)\n",
    "\n",
    "fig.show()"
   ]
  },
  {
   "cell_type": "markdown",
   "metadata": {},
   "source": [
    "## COVID-19 Cases on Ships"
   ]
  },
  {
   "cell_type": "code",
   "execution_count": null,
   "metadata": {},
   "outputs": [],
   "source": [
    "df['Date'] = pd.to_datetime(df['Date'])\n",
    "df.info()"
   ]
  },
  {
   "cell_type": "code",
   "execution_count": null,
   "metadata": {},
   "outputs": [],
   "source": [
    "# Ship cases\n",
    "\n",
    "ship_rows = df['Province/State'].str.contains('Grand Princess') | df['Province/State'].str.contains('Diamond Princess') | df['Country'].str.contains('Grand Princess') | df['Country'].str.contains('Diamond Princess') | df['Country'].str.contains('MS Zaandam')\n",
    "ship = df[ship_rows]\n",
    "\n",
    "df = df[~ship_rows]"
   ]
  },
  {
   "cell_type": "code",
   "execution_count": null,
   "metadata": {},
   "outputs": [],
   "source": [
    "ship_latest = ship[ship['Date'] == max(ship['Date'])]"
   ]
  },
  {
   "cell_type": "code",
   "execution_count": null,
   "metadata": {},
   "outputs": [],
   "source": [
    "ship_latest"
   ]
  },
  {
   "cell_type": "code",
   "execution_count": null,
   "metadata": {},
   "outputs": [],
   "source": [
    "ship_latest.style.background_gradient(cmap = 'Pastel1_r')"
   ]
  },
  {
   "cell_type": "markdown",
   "metadata": {},
   "source": [
    "## Cases Over Time"
   ]
  },
  {
   "cell_type": "code",
   "execution_count": null,
   "metadata": {},
   "outputs": [],
   "source": [
    "temp = df.groupby('Date')['Confirmed', 'Deaths', 'Recovered', 'Active'].sum().reset_index()\n",
    "temp = temp[temp['Date'] == max(temp['Date'])].reset_index(drop=True)\n",
    "\n",
    "tm = temp.melt(id_vars='Date', value_vars=['Active', 'Deaths', 'Recovered'])\n",
    "\n",
    "fig = px.treemap(tm, path=['variable'], values='value', height=250, width=800, \n",
    "                 color_discrete_sequence=[act, rec, dth])\n",
    "\n",
    "fig.data[0].textinfo = 'label+text+value'\n",
    "\n",
    "fig.show()"
   ]
  },
  {
   "cell_type": "code",
   "execution_count": null,
   "metadata": {},
   "outputs": [],
   "source": [
    "temp = df.groupby('Date')['Recovered', 'Deaths', 'Active'].sum().reset_index()\n",
    "temp = temp.melt(id_vars='Date', value_vars=['Recovered', 'Deaths', 'Active'], var_name='Case')\n",
    "\n",
    "fig = px.area(temp, x = 'Date', y = 'value', color= 'Case', height = 400, \n",
    "              title = 'Cases over time', color_discrete_sequence=[rec, dth,  act])\n",
    "\n",
    "fig.update_layout(xaxis_rangeslider_visible=True)"
   ]
  },
  {
   "cell_type": "code",
   "execution_count": null,
   "metadata": {},
   "outputs": [],
   "source": [
    "temp"
   ]
  },
  {
   "cell_type": "markdown",
   "metadata": {},
   "source": [
    "## Folium Maps"
   ]
  },
  {
   "cell_type": "markdown",
   "metadata": {},
   "source": [
    "Worldwide Cases on Folium Maps"
   ]
  },
  {
   "cell_type": "code",
   "execution_count": null,
   "metadata": {},
   "outputs": [],
   "source": [
    "temp = df[df['Date'] == max(df['Date'])]\n",
    "\n",
    "m = folium.Map(location=[0,0], tiles='cartodbpositron', min_zoom=1, max_xoom=4,\n",
    "              zoom_start=1)\n",
    "\n",
    "for i in range(0, len(temp)):\n",
    "    folium.Circle(location=[temp.iloc[i]['Lat'], temp.iloc[i]['Long']], color='crimson', fill='crimson', \n",
    "                  tooltip='<li><bold> Country: ' + str(temp.iloc[i]['Country']) +\n",
    "                          '<li><bold> State: ' + str(temp.iloc[i]['Province/State']) +\n",
    "                          '<li><bold> Confirmed: ' + str(temp.iloc[i]['Confirmed']) +\n",
    "                          '<li><bold> Deaths: ' + str(temp.iloc[i]['Deaths']),\n",
    "                 radius=int(temp.iloc[i]['Confirmed'])**0.5).add_to(m)\n",
    "\n",
    "m"
   ]
  },
  {
   "cell_type": "markdown",
   "metadata": {},
   "source": [
    "## Confirmed Cases with Choropleth Map"
   ]
  },
  {
   "cell_type": "code",
   "execution_count": null,
   "metadata": {},
   "outputs": [],
   "source": [
    "fig = px.choropleth(country_daywise, locations='Country', locationmode='country names',\n",
    "                   color=np.log(country_daywise['Confirmed']), animation_frame=country_daywise['Date'].dt.strftime('%Y-%m-%d'),\n",
    "                   title='Cases over time', color_continuous_scale=px.colors.sequential.Inferno)\n",
    "\n",
    "fig.update(layout_coloraxis_showscale=True)\n",
    "\n",
    "fig.show()"
   ]
  },
  {
   "cell_type": "markdown",
   "metadata": {},
   "source": [
    "## Deaths and Recoveries per 100 Cases"
   ]
  },
  {
   "cell_type": "code",
   "execution_count": null,
   "metadata": {},
   "outputs": [],
   "source": [
    "daywise.head()"
   ]
  },
  {
   "cell_type": "code",
   "execution_count": null,
   "metadata": {},
   "outputs": [],
   "source": [
    "fig_c = px.bar(daywise, x='Date', y='Confirmed', color_discrete_sequence=[act])\n",
    "fig_d = px.bar(daywise, x='Date', y='Confirmed', color_discrete_sequence=[dth])\n",
    "\n",
    "fig = make_subplots(rows=1, cols=2, shared_xaxes=False, horizontal_spacing=0.1,\n",
    "                   subplot_titles=('Confirmed Cases', 'Deaths'))\n",
    "\n",
    "fig.add_trace(fig_c['data'][0], row=1, col=1)\n",
    "fig.add_trace(fig_d['data'][0], row=1, col=2)\n",
    "\n",
    "fig.update_layout(height=400)\n",
    "\n",
    "fig.show()"
   ]
  },
  {
   "cell_type": "markdown",
   "metadata": {},
   "source": [
    "## Confirmed Cases and Deaths with Static Colormap"
   ]
  },
  {
   "cell_type": "code",
   "execution_count": null,
   "metadata": {},
   "outputs": [],
   "source": [
    "fig_c = px.choropleth(countrywise, locations='Country', locationmode='country names',\n",
    "                     color=np.log(countrywise['Confirmed']), hover_name='Country',\n",
    "                     hover_data=['Confirmed'])\n",
    "\n",
    "temp = countrywise[countrywise['Deaths']>0]\n",
    "fig_d = px.choropleth(temp, locations='Country', locationmode='country names',\n",
    "                     color=np.log(temp['Deaths']), hover_name='Country',\n",
    "                     hover_data=['Deaths'])\n",
    "\n",
    "fig = make_subplots(rows=1, cols=2, subplot_titles=['Confirmed', 'Deaths'],\n",
    "                   specs=[[{'type': 'choropleth'}, {'type': 'choropleth'}]])\n",
    "\n",
    "fig.add_trace(fig_c['data'][0], row=1, col=1)\n",
    "fig.add_trace(fig_d['data'][0], row=1, col=2)\n",
    "\n",
    "fig.update(layout_coloraxis_showscale=False)\n",
    "\n",
    "fig.show()"
   ]
  },
  {
   "cell_type": "code",
   "execution_count": null,
   "metadata": {},
   "outputs": [],
   "source": [
    "daywise.columns"
   ]
  },
  {
   "cell_type": "code",
   "execution_count": null,
   "metadata": {},
   "outputs": [],
   "source": [
    "fig1 = px.line(daywise, x='Date', y='Deaths / 100 Cases', color_discrete_sequence=[dth])\n",
    "fig2 = px.line(daywise, x='Date', y='Recovered / 100 Cases', color_discrete_sequence=[rec])\n",
    "fig3 = px.line(daywise, x='Date', y='Deaths / 100 Recovered', color_discrete_sequence=['aqua'])\n",
    "\n",
    "fig = make_subplots(rows=1, cols=3, shared_xaxes=False,\n",
    "                   subplot_titles=('Deaths / 100 Cases', 'Recovered / 100 Cases', 'Deaths / 100 Recovered'))\n",
    "\n",
    "fig.add_trace(fig1['data'][0], row=1, col=1)\n",
    "fig.add_trace(fig2['data'][0], row=1, col=2)\n",
    "fig.add_trace(fig3['data'][0], row=1, col=3)\n",
    "\n",
    "fig.update_layout(height=400)\n",
    "fig.show()"
   ]
  },
  {
   "cell_type": "markdown",
   "metadata": {},
   "source": [
    "## New Cases and No. of Countries"
   ]
  },
  {
   "cell_type": "code",
   "execution_count": null,
   "metadata": {},
   "outputs": [],
   "source": [
    "fig_c = px.bar(daywise, x='Date', y='Confirmed', color_discrete_sequence=[act])\n",
    "fig_d = px.bar(daywise, x='Date', y='No. of Countries', color_discrete_sequence=[dth])\n",
    "\n",
    "fig = make_subplots(rows=1, cols=2, shared_xaxes=False, horizontal_spacing=0.1,\n",
    "                   subplot_titles=('No. of New Cases per Day', 'No. of Countries'))\n",
    "\n",
    "fig.add_trace(fig_c['data'][0], row=1, col=1)\n",
    "fig.add_trace(fig_d['data'][0], row=1, col=2)\n",
    "\n",
    "fig.show()"
   ]
  },
  {
   "cell_type": "markdown",
   "metadata": {},
   "source": [
    "## Top 15 Countries Case Analysis"
   ]
  },
  {
   "cell_type": "code",
   "execution_count": null,
   "metadata": {},
   "outputs": [],
   "source": [
    "countrywise.columns"
   ]
  },
  {
   "cell_type": "code",
   "execution_count": null,
   "metadata": {
    "scrolled": false
   },
   "outputs": [],
   "source": [
    "top = 15\n",
    "\n",
    "fig_c = px.bar(countrywise.sort_values('Confirmed').tail(top), x='Confirmed', y='Country',\n",
    "              text='Confirmed', orientation='h', color_discrete_sequence=[cnf])\n",
    "fig_d = px.bar(countrywise.sort_values('Deaths').tail(top), x='Deaths', y='Country',\n",
    "              text='Deaths', orientation='h', color_discrete_sequence=[dth])\n",
    "fig_a = px.bar(countrywise.sort_values('Active').tail(top), x='Active', y='Country',\n",
    "              text='Active', orientation='h', color_discrete_sequence=[act])\n",
    "fig_r = px.bar(countrywise.sort_values('Recovered').tail(top), x='Recovered', y='Country',\n",
    "              text='Recovered', orientation='h', color_discrete_sequence=[rec])\n",
    "\n",
    "fig_dc = px.bar(countrywise.sort_values('Deaths / 100 Cases').tail(top), x='Deaths / 100 Cases', y='Country',\n",
    "              text='Deaths / 100 Cases', orientation='h', color_discrete_sequence=[rec])\n",
    "fig_rc = px.bar(countrywise.sort_values('Recovered / 100 Cases').tail(top), x='Recovered / 100 Cases', y='Country',\n",
    "              text='Recovered / 100 Cases', orientation='h', color_discrete_sequence=[rec])\n",
    "\n",
    "fig_nc = px.bar(countrywise.sort_values('New Cases').tail(top), x='New Cases', y='Country',\n",
    "              text='New Cases', orientation='h', color_discrete_sequence=['#f04341'])\n",
    "\n",
    "temp = countrywise[countrywise['Population']>1000000]\n",
    "fig_p = px.bar(temp.sort_values('Cases / Million People').tail(top), x='Cases / Million People', y='Country',\n",
    "              text='Cases / Million People', orientation='h', color_discrete_sequence=['#b40398'])\n",
    "\n",
    "fig_wc = px.bar(countrywise.sort_values('1 week change').tail(top), x='1 week change', y='Country',\n",
    "              text='1 week change', orientation='h', color_discrete_sequence=['#c04041'])\n",
    "\n",
    "temp = countrywise[countrywise['Confirmed']>100]\n",
    "fig_wi = px.bar(temp.sort_values('1 week % increase').tail(top), x='1 week % increase', y='Country',\n",
    "              text='1 week % increase', orientation='h', color_discrete_sequence=['#f40598'])\n",
    "\n",
    "fig = make_subplots(rows=5, cols=2, shared_xaxes=False, horizontal_spacing=0.2,\n",
    "                    vertical_spacing=0.02,\n",
    "                    subplot_titles=('Confirmed Cases', 'Deaths Reported', 'Active Cases', 'Recovered Cases', 'Deaths / 100 Cases',\n",
    "                                    'Recovered / 100 Cases', 'New Cases', 'Cases / Million People',\n",
    "                                   '1 week change', '1 week % increase'))\n",
    "\n",
    "fig.add_trace(fig_c['data'][0], row=1, col=1)\n",
    "fig.add_trace(fig_d['data'][0], row=1, col=2)\n",
    "\n",
    "fig.add_trace(fig_a['data'][0], row=2, col=1)\n",
    "fig.add_trace(fig_r['data'][0], row=2, col=2)\n",
    "\n",
    "fig.add_trace(fig_dc['data'][0], row=3, col=1)\n",
    "fig.add_trace(fig_rc['data'][0], row=3, col=2)\n",
    "\n",
    "fig.add_trace(fig_nc['data'][0], row=4, col=1)\n",
    "fig.add_trace(fig_p['data'][0], row=4, col=2)\n",
    "\n",
    "fig.add_trace(fig_wc['data'][0], row=5, col=1)\n",
    "fig.add_trace(fig_wi['data'][0], row=5, col=2)\n",
    "\n",
    "fig.update_layout(height=3000)\n",
    "\n",
    "fig.show()"
   ]
  },
  {
   "cell_type": "code",
   "execution_count": null,
   "metadata": {},
   "outputs": [],
   "source": []
  },
  {
   "cell_type": "code",
   "execution_count": null,
   "metadata": {},
   "outputs": [],
   "source": []
  },
  {
   "cell_type": "code",
   "execution_count": null,
   "metadata": {},
   "outputs": [],
   "source": []
  },
  {
   "cell_type": "code",
   "execution_count": null,
   "metadata": {},
   "outputs": [],
   "source": []
  },
  {
   "cell_type": "code",
   "execution_count": null,
   "metadata": {},
   "outputs": [],
   "source": []
  },
  {
   "cell_type": "code",
   "execution_count": null,
   "metadata": {},
   "outputs": [],
   "source": []
  },
  {
   "cell_type": "code",
   "execution_count": null,
   "metadata": {},
   "outputs": [],
   "source": []
  },
  {
   "cell_type": "code",
   "execution_count": null,
   "metadata": {},
   "outputs": [],
   "source": []
  },
  {
   "cell_type": "code",
   "execution_count": null,
   "metadata": {},
   "outputs": [],
   "source": []
  },
  {
   "cell_type": "code",
   "execution_count": null,
   "metadata": {},
   "outputs": [],
   "source": []
  },
  {
   "cell_type": "code",
   "execution_count": null,
   "metadata": {},
   "outputs": [],
   "source": []
  },
  {
   "cell_type": "code",
   "execution_count": null,
   "metadata": {},
   "outputs": [],
   "source": []
  },
  {
   "cell_type": "code",
   "execution_count": null,
   "metadata": {},
   "outputs": [],
   "source": []
  },
  {
   "cell_type": "code",
   "execution_count": null,
   "metadata": {},
   "outputs": [],
   "source": []
  },
  {
   "cell_type": "code",
   "execution_count": null,
   "metadata": {},
   "outputs": [],
   "source": []
  },
  {
   "cell_type": "code",
   "execution_count": null,
   "metadata": {},
   "outputs": [],
   "source": []
  },
  {
   "cell_type": "code",
   "execution_count": null,
   "metadata": {},
   "outputs": [],
   "source": []
  },
  {
   "cell_type": "code",
   "execution_count": null,
   "metadata": {},
   "outputs": [],
   "source": []
  },
  {
   "cell_type": "code",
   "execution_count": null,
   "metadata": {},
   "outputs": [],
   "source": []
  },
  {
   "cell_type": "code",
   "execution_count": null,
   "metadata": {},
   "outputs": [],
   "source": []
  },
  {
   "cell_type": "code",
   "execution_count": null,
   "metadata": {},
   "outputs": [],
   "source": []
  },
  {
   "cell_type": "code",
   "execution_count": null,
   "metadata": {},
   "outputs": [],
   "source": []
  }
 ],
 "metadata": {
  "kernelspec": {
   "display_name": "Python 3",
   "language": "python",
   "name": "python3"
  },
  "language_info": {
   "codemirror_mode": {
    "name": "ipython",
    "version": 3
   },
   "file_extension": ".py",
   "mimetype": "text/x-python",
   "name": "python",
   "nbconvert_exporter": "python",
   "pygments_lexer": "ipython3",
   "version": "3.7.7"
  }
 },
 "nbformat": 4,
 "nbformat_minor": 4
}
